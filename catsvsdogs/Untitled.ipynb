{
 "cells": [
  {
   "cell_type": "code",
   "execution_count": 1,
   "id": "403b7d26",
   "metadata": {},
   "outputs": [
    {
     "name": "stderr",
     "output_type": "stream",
     "text": [
      "2021-09-23 17:05:51.178329: I tensorflow/stream_executor/platform/default/dso_loader.cc:49] Successfully opened dynamic library libcudart.so.10.1\n"
     ]
    }
   ],
   "source": [
    "import pandas as pd\n",
    "import numpy as np\n",
    "import tensorflow as tf\n",
    "from tensorflow import keras"
   ]
  },
  {
   "cell_type": "code",
   "execution_count": null,
   "id": "774f4f09",
   "metadata": {},
   "outputs": [],
   "source": []
  },
  {
   "cell_type": "code",
   "execution_count": 11,
   "id": "11aad4b2",
   "metadata": {},
   "outputs": [],
   "source": [
    "from tensorflow.keras.layers import Dense,Conv2D,Flatten,Dropout,MaxPool2D\n",
    "from tensorflow.keras.models import Sequential"
   ]
  },
  {
   "cell_type": "code",
   "execution_count": 12,
   "id": "6d646ce4",
   "metadata": {},
   "outputs": [],
   "source": [
    "model=Sequential()"
   ]
  },
  {
   "cell_type": "code",
   "execution_count": 13,
   "id": "79721925",
   "metadata": {},
   "outputs": [],
   "source": [
    "model.add(Conv2D(filters=64,kernel_size=3,padding='same',activation='relu',input_shape=(32,32,3)))"
   ]
  },
  {
   "cell_type": "code",
   "execution_count": 15,
   "id": "308c61e6",
   "metadata": {},
   "outputs": [],
   "source": [
    "model.add(MaxPool2D(pool_size=(2,2),strides=2,padding='valid'))"
   ]
  },
  {
   "cell_type": "code",
   "execution_count": 16,
   "id": "e046defd",
   "metadata": {},
   "outputs": [],
   "source": [
    "model.add(Conv2D(filters=64,kernel_size=3,padding='same',activation='relu'))\n",
    "model.add(MaxPool2D(pool_size=(2,2),strides=2,padding='valid'))"
   ]
  },
  {
   "cell_type": "code",
   "execution_count": 17,
   "id": "89bb6d37",
   "metadata": {},
   "outputs": [],
   "source": [
    "model.add(Flatten())"
   ]
  },
  {
   "cell_type": "code",
   "execution_count": 18,
   "id": "f94ab3ba",
   "metadata": {},
   "outputs": [],
   "source": [
    "model.add(Dropout(0.4))"
   ]
  },
  {
   "cell_type": "code",
   "execution_count": 19,
   "id": "cf0b281d",
   "metadata": {},
   "outputs": [],
   "source": [
    "model.add(Dense(units=128,activation='relu'))"
   ]
  },
  {
   "cell_type": "code",
   "execution_count": 20,
   "id": "beabb2ef",
   "metadata": {},
   "outputs": [],
   "source": [
    "model.add(Dense(units=1,activation='sigmoid'))"
   ]
  },
  {
   "cell_type": "code",
   "execution_count": 22,
   "id": "03d5951f",
   "metadata": {},
   "outputs": [],
   "source": [
    "model.compile(optimizer='adam',loss='binary_crossentropy',metrics=['accuracy'])"
   ]
  },
  {
   "cell_type": "code",
   "execution_count": null,
   "id": "303b9618",
   "metadata": {},
   "outputs": [],
   "source": []
  },
  {
   "cell_type": "code",
   "execution_count": 24,
   "id": "4135b7b0",
   "metadata": {},
   "outputs": [],
   "source": [
    "from tensorflow.keras.preprocessing.image import ImageDataGenerator"
   ]
  },
  {
   "cell_type": "code",
   "execution_count": 41,
   "id": "d83c7d1b",
   "metadata": {},
   "outputs": [],
   "source": [
    "training_dir='./training_set/training_set'\n",
    "test_dir=\"./test_set/test_set\""
   ]
  },
  {
   "cell_type": "code",
   "execution_count": 42,
   "id": "659f443c",
   "metadata": {},
   "outputs": [
    {
     "name": "stdout",
     "output_type": "stream",
     "text": [
      "['training_set', 'test_set', 'Untitled.ipynb', '.ipynb_checkpoints']\n"
     ]
    }
   ],
   "source": [
    "import os\n",
    "print(os.listdir())"
   ]
  },
  {
   "cell_type": "code",
   "execution_count": 43,
   "id": "5de217a6",
   "metadata": {},
   "outputs": [],
   "source": [
    "data=ImageDataGenerator(rescale=1./255)"
   ]
  },
  {
   "cell_type": "code",
   "execution_count": 44,
   "id": "c975b44e",
   "metadata": {},
   "outputs": [
    {
     "name": "stdout",
     "output_type": "stream",
     "text": [
      "Found 8005 images belonging to 2 classes.\n",
      "Found 2023 images belonging to 2 classes.\n"
     ]
    }
   ],
   "source": [
    "training_set=data.flow_from_directory(directory=training_dir,\n",
    "                                      target_size=(32,32),\n",
    "                                      class_mode='binary',\n",
    "                                      batch_size=20)\n",
    "\n",
    "test_set=data.flow_from_directory(directory=test_dir,\n",
    "                                  target_size=(32,32),\n",
    "                                  class_mode='binary',\n",
    "                                  batch_size=20)"
   ]
  },
  {
   "cell_type": "code",
   "execution_count": 45,
   "id": "7ae6443d",
   "metadata": {},
   "outputs": [
    {
     "data": {
      "text/plain": [
       "401"
      ]
     },
     "execution_count": 45,
     "metadata": {},
     "output_type": "execute_result"
    }
   ],
   "source": [
    "len(training_set)"
   ]
  },
  {
   "cell_type": "code",
   "execution_count": 46,
   "id": "d2b9fd3e",
   "metadata": {},
   "outputs": [
    {
     "data": {
      "text/plain": [
       "102"
      ]
     },
     "execution_count": 46,
     "metadata": {},
     "output_type": "execute_result"
    }
   ],
   "source": [
    "len(test_set)"
   ]
  },
  {
   "cell_type": "code",
   "execution_count": 48,
   "id": "c80b8086",
   "metadata": {},
   "outputs": [
    {
     "name": "stderr",
     "output_type": "stream",
     "text": [
      "/home/siddhu/anaconda3/envs/IBM/lib/python3.8/site-packages/tensorflow/python/keras/engine/training.py:1844: UserWarning: `Model.fit_generator` is deprecated and will be removed in a future version. Please use `Model.fit`, which supports generators.\n",
      "  warnings.warn('`Model.fit_generator` is deprecated and '\n",
      "2021-09-23 17:27:22.855501: I tensorflow/compiler/mlir/mlir_graph_optimization_pass.cc:116] None of the MLIR optimization passes are enabled (registered 2)\n",
      "2021-09-23 17:27:22.888315: I tensorflow/core/platform/profile_utils/cpu_utils.cc:112] CPU Frequency: 2299965000 Hz\n"
     ]
    },
    {
     "name": "stdout",
     "output_type": "stream",
     "text": [
      "Epoch 1/20\n",
      "401/401 [==============================] - 85s 209ms/step - loss: 0.6832 - accuracy: 0.5479 - val_loss: 0.6628 - val_accuracy: 0.5863\n",
      "Epoch 2/20\n",
      "401/401 [==============================] - 21s 53ms/step - loss: 0.6012 - accuracy: 0.6687 - val_loss: 0.5686 - val_accuracy: 0.7059\n",
      "Epoch 3/20\n",
      "401/401 [==============================] - 22s 54ms/step - loss: 0.5523 - accuracy: 0.7072 - val_loss: 0.5449 - val_accuracy: 0.7316\n",
      "Epoch 4/20\n",
      "401/401 [==============================] - 22s 54ms/step - loss: 0.5228 - accuracy: 0.7374 - val_loss: 0.5329 - val_accuracy: 0.7385\n",
      "Epoch 5/20\n",
      "401/401 [==============================] - 22s 55ms/step - loss: 0.4806 - accuracy: 0.7647 - val_loss: 0.5266 - val_accuracy: 0.7444\n",
      "Epoch 6/20\n",
      "401/401 [==============================] - 22s 55ms/step - loss: 0.4658 - accuracy: 0.7775 - val_loss: 0.5409 - val_accuracy: 0.7385\n",
      "Epoch 7/20\n",
      "401/401 [==============================] - 22s 55ms/step - loss: 0.4222 - accuracy: 0.7996 - val_loss: 0.5157 - val_accuracy: 0.7568\n",
      "Epoch 8/20\n",
      "401/401 [==============================] - 22s 55ms/step - loss: 0.4069 - accuracy: 0.8158 - val_loss: 0.5319 - val_accuracy: 0.7380\n",
      "Epoch 9/20\n",
      "401/401 [==============================] - 22s 55ms/step - loss: 0.3647 - accuracy: 0.8374 - val_loss: 0.5155 - val_accuracy: 0.7553\n",
      "Epoch 10/20\n",
      "401/401 [==============================] - 22s 55ms/step - loss: 0.3379 - accuracy: 0.8481 - val_loss: 0.5017 - val_accuracy: 0.7588\n",
      "Epoch 11/20\n",
      "401/401 [==============================] - 22s 55ms/step - loss: 0.2939 - accuracy: 0.8780 - val_loss: 0.5349 - val_accuracy: 0.7558\n",
      "Epoch 12/20\n",
      "401/401 [==============================] - 22s 55ms/step - loss: 0.2750 - accuracy: 0.8843 - val_loss: 0.5651 - val_accuracy: 0.7608\n",
      "Epoch 13/20\n",
      "401/401 [==============================] - 22s 55ms/step - loss: 0.2418 - accuracy: 0.8990 - val_loss: 0.5611 - val_accuracy: 0.7573\n",
      "Epoch 14/20\n",
      "401/401 [==============================] - 22s 55ms/step - loss: 0.2158 - accuracy: 0.9109 - val_loss: 0.5880 - val_accuracy: 0.7667\n",
      "Epoch 15/20\n",
      "401/401 [==============================] - 23s 56ms/step - loss: 0.1948 - accuracy: 0.9237 - val_loss: 0.6085 - val_accuracy: 0.7533\n",
      "Epoch 16/20\n",
      "401/401 [==============================] - 22s 55ms/step - loss: 0.1682 - accuracy: 0.9332 - val_loss: 0.6187 - val_accuracy: 0.7548\n",
      "Epoch 17/20\n",
      "401/401 [==============================] - 22s 55ms/step - loss: 0.1525 - accuracy: 0.9395 - val_loss: 0.6204 - val_accuracy: 0.7642\n",
      "Epoch 18/20\n",
      "401/401 [==============================] - 22s 55ms/step - loss: 0.1241 - accuracy: 0.9539 - val_loss: 0.6947 - val_accuracy: 0.7731\n",
      "Epoch 19/20\n",
      "401/401 [==============================] - 22s 56ms/step - loss: 0.1331 - accuracy: 0.9530 - val_loss: 0.6936 - val_accuracy: 0.7652\n",
      "Epoch 20/20\n",
      "401/401 [==============================] - 22s 56ms/step - loss: 0.1139 - accuracy: 0.9550 - val_loss: 0.7066 - val_accuracy: 0.7701\n"
     ]
    }
   ],
   "source": [
    "history=model.fit_generator(generator=training_set,steps_per_epoch=401,epochs=20,validation_data=test_set,validation_steps=102)"
   ]
  },
  {
   "cell_type": "code",
   "execution_count": null,
   "id": "73328eb8",
   "metadata": {},
   "outputs": [],
   "source": []
  },
  {
   "cell_type": "code",
   "execution_count": null,
   "id": "33fad89c",
   "metadata": {},
   "outputs": [],
   "source": []
  },
  {
   "cell_type": "code",
   "execution_count": null,
   "id": "b87761a3",
   "metadata": {},
   "outputs": [],
   "source": []
  },
  {
   "cell_type": "code",
   "execution_count": null,
   "id": "4b6de461",
   "metadata": {},
   "outputs": [],
   "source": []
  }
 ],
 "metadata": {
  "kernelspec": {
   "display_name": "Python 3 (ipykernel)",
   "language": "python",
   "name": "python3"
  },
  "language_info": {
   "codemirror_mode": {
    "name": "ipython",
    "version": 3
   },
   "file_extension": ".py",
   "mimetype": "text/x-python",
   "name": "python",
   "nbconvert_exporter": "python",
   "pygments_lexer": "ipython3",
   "version": "3.8.8"
  }
 },
 "nbformat": 4,
 "nbformat_minor": 5
}
